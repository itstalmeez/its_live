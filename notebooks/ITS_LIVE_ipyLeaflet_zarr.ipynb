{
 "cells": [
  {
   "cell_type": "markdown",
   "id": "58e55ae9",
   "metadata": {},
   "source": [
    "<div>\n",
    "    <h1><center>\n",
    "        <img src=\"https://its-live-data.s3.amazonaws.com/documentation/ITS_LIVE_logo.png\" width=\"500\"/>\n",
    "        </center></h1>\n",
    "    <h1><center>\n",
    "        Global glacier velocity point data access<br>\n",
    "        using an ipyLeaflet basemap<br>\n",
    "        </center></h1>\n",
    "</div>\n",
    "\n",
    "***\n",
    "\n",
    "Author: Mark Fahnestock, Geophysical Institute, University of Alaska Fairbanks\n",
    "Date: November 8, 2021\n",
    "\n",
    "***"
   ]
  },
  {
   "cell_type": "markdown",
   "id": "bfb050c5",
   "metadata": {},
   "source": [
    "# Overview\n",
    "\n",
    "This notebook allows you to select a set of point locations on a Leaflet-based global map, fetch all available ITS_LIVE glacier velocities for the locations, and plot the results.\n",
    "\n",
    "Select the points by double-clicking on the map - click and drag on the map to pan the field of view.\n",
    "\n",
    "Once points are chosen, hit \"Make Plot\" (bottom right corner) to produce a plot.\n",
    "\n",
    "You can drag individual points after they are placed to relocate them, and then \"Make Plot\" again\n",
    "\n",
    "Click \"Clear Points\" to start over.\n",
    "\n",
    "The notebook is set up to show data coverage for a small set of \"All Satellite\" datacubes by default (parts of Greenland/Svalbard/Alaska only for now), but if you select Landsat 8 it will instead use a global collection of Landsat 8 datacubes.\n",
    "\n",
    "Underling data is stored on AWS S3 as Zarr datacubes and is accessed without an intermediate server. Glacier velocities in the \"All Satellite\" datacube collection are derived from all available Landsat 8, Sentinel-1A/B, Sentinel-2A/B imagery, while they are limited to Landsat 8 for now in the global dataset.\n",
    "\n",
    "\n",
    "Please refer to the <a href=\"https://its-live.jpl.nasa.gov/\">project website</a> for further product infomation and for appraopriate data citation.\n",
    "\n",
    "### Setting up a local environment\n",
    "\n",
    "From the repository root, run in a terminal:\n",
    "```shell\n",
    "cd notebooks\n",
    "conda env create -f environment.yml\n",
    "```\n",
    "activate newly created environment:\n",
    "```shell\n",
    "conda activate itslive-notebooks\n",
    "```\n",
    "\n",
    "then start jupyter in browser\n",
    "```shell\n",
    "jupyter notebook\n",
    "```"
   ]
  },
  {
   "cell_type": "code",
   "execution_count": 6,
   "id": "f3af813f",
   "metadata": {},
   "outputs": [],
   "source": [
    "%matplotlib widget\n",
    "# import the library\n",
    "from velocity_widget import ITSLIVE\n",
    "\n",
    "velocity_widget = ITSLIVE()"
   ]
  },
  {
   "cell_type": "code",
   "execution_count": 8,
   "id": "39e9abf4-7bef-4cef-ab0c-8ff0ff4460b6",
   "metadata": {},
   "outputs": [
    {
     "data": {
      "application/vnd.jupyter.widget-view+json": {
       "model_id": "515b89907f474807a843f09e32c80382",
       "version_major": 2,
       "version_minor": 0
      },
      "text/plain": [
       "Map(center=[64.2, -49.43], controls=(ZoomControl(options=['position', 'zoom_in_text', 'zoom_in_title', 'zoom_o…"
      ]
     },
     "metadata": {},
     "output_type": "display_data"
    },
    {
     "data": {
      "application/vnd.jupyter.widget-view+json": {
       "model_id": "bf75d7602eaf40e398089a8f6a0cac66",
       "version_major": 2,
       "version_minor": 0
      },
      "text/html": [
       "\n",
       "            <div style=\"display: inline-block;\">\n",
       "                <div class=\"jupyter-widgets widget-label\" style=\"text-align: center;\">\n",
       "                    Figure\n",
       "                </div>\n",
       "                <img src='data:image/png;base64,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' width=1000.0/>\n",
       "            </div>\n",
       "        "
      ],
      "text/plain": [
       "Canvas(toolbar=Toolbar(toolitems=[('Home', 'Reset original view', 'home', 'home'), ('Back', 'Back to previous …"
      ]
     },
     "metadata": {},
     "output_type": "display_data"
    }
   ],
   "source": [
    "# If this congiguration changes we need to rerun the cell.\n",
    "config = { \n",
    "    \"plot\": \"v\", # or other ITS_LIVE variables: vx, vy ...\n",
    "    \"max_separation_days\": 90,\n",
    "    \"color_by\": \"points\" # valid values: satellite, points\n",
    "}\n",
    "\n",
    "velocity_widget.set_config(config)\n",
    "velocity_widget.display()"
   ]
  },
  {
   "cell_type": "markdown",
   "id": "3f368307-8061-40e2-85f2-52e020c9a7dc",
   "metadata": {},
   "source": [
    "## Gathering and processing the data\n",
    "\n",
    "## Zarr and S3 cloud storage\n",
    "\n",
    "* Why Zarr? \n",
    "* Chunking of ITS_LIVE cubes\n",
    "\n",
    "### Working with ITS_LIVE zarr cubes in **xarray**"
   ]
  },
  {
   "cell_type": "code",
   "execution_count": null,
   "id": "3a0f7570-bc65-41b7-acaf-88b873ea01d9",
   "metadata": {},
   "outputs": [],
   "source": [
    "# we can work directly with the xarray instances for the cubes that match our points in the map.\n",
    "# this will return a list of tuples with the file to the cube and the actual xarray instance!\n",
    "zarr_cubes = velocity_widget.get_zarr_cubes()\n",
    "cube_tuple = zarr_cubes[0]\n",
    "print(f\"Zarr file: {cube_tuple[0]}\")\n",
    "# The actual xarray is the second item in our tuple, if we pretty printed it will fetch metadata from\n",
    "# S3 and will take ~10 seconds to load the first time. Chunking was optimized for time series so any spatial operation will \n",
    "# take some time, where as selecting a point and getting all the values along the time dimenssion will be fast.\n",
    "cube = cube_tuple[1]\n",
    "cube"
   ]
  },
  {
   "cell_type": "code",
   "execution_count": null,
   "id": "de3bcfe6-c163-4a03-882d-ef3579afa401",
   "metadata": {},
   "outputs": [],
   "source": []
  }
 ],
 "metadata": {
  "kernelspec": {
   "display_name": "Python 3 (ipykernel)",
   "language": "python",
   "name": "python3"
  },
  "language_info": {
   "codemirror_mode": {
    "name": "ipython",
    "version": 3
   },
   "file_extension": ".py",
   "mimetype": "text/x-python",
   "name": "python",
   "nbconvert_exporter": "python",
   "pygments_lexer": "ipython3",
   "version": "3.9.7"
  }
 },
 "nbformat": 4,
 "nbformat_minor": 5
}

{
 "cells": [
  {
   "cell_type": "markdown",
   "id": "58e55ae9",
   "metadata": {},
   "source": [
    "<div>\n",
    "    <h1><center>\n",
    "        <img src=\"https://its-live-data.s3.amazonaws.com/documentation/ITS_LIVE_logo.png\" width=\"500\"/>\n",
    "        </center></h1>\n",
    "    <h1><center>\n",
    "        Global glacier velocity point data access<br>\n",
    "        using an ipyLeaflet basemap<br>\n",
    "        </center></h1>\n",
    "</div>\n",
    "\n",
    "***\n",
    "\n",
    "Author: Mark Fahnestock, Geophysical Institute, University of Alaska Fairbanks\n",
    "Date: November 8, 2021\n",
    "\n",
    "***"
   ]
  },
  {
   "cell_type": "markdown",
   "id": "bfb050c5",
   "metadata": {},
   "source": [
    "# Overview\n",
    "\n",
    "This notebook allows you to select a set of point locations on a Leaflet-based global map, fetch all available ITS_LIVE glacier velocities for the locations, and plot the results.\n",
    "\n",
    "Select the points by double-clicking on the map - click and drag on the map to pan the field of view.\n",
    "\n",
    "Once points are chosen, hit \"Make Plot\" (bottom right corner) to produce a plot.\n",
    "\n",
    "You can drag individual points after they are placed to relocate them, and then \"Make Plot\" again\n",
    "\n",
    "Click \"Clear Points\" to start over.\n",
    "\n",
    "The notebook is set up to show data coverage for a small set of \"All Satellite\" datacubes by default (parts of Greenland/Svalbard/Alaska only for now), but if you select Landsat 8 it will instead use a global collection of Landsat 8 datacubes.\n",
    "\n",
    "Underling data is stored on AWS S3 as Zarr datacubes and is accessed without an intermediate server. Glacier velocities in the \"All Satellite\" datacube collection are derived from all available Landsat 8, Sentinel-1A/B, Sentinel-2A/B imagery, while they are limited to Landsat 8 for now in the global dataset.\n",
    "\n",
    "\n",
    "Please refer to the <a href=\"https://its-live.jpl.nasa.gov/\">project website</a> for further product infomation and for appraopriate data citation.\n",
    "\n",
    "### Setting up a local environment\n",
    "\n",
    "From the repository root, run in a terminal:\n",
    "```shell\n",
    "cd notebooks\n",
    "conda env create -f environment.yml\n",
    "```\n",
    "activate newly created environment:\n",
    "```shell\n",
    "conda activate itslive-notebooks\n",
    "```\n",
    "\n",
    "then start jupyter in browser\n",
    "```shell\n",
    "jupyter notebook\n",
    "```"
   ]
  },
  {
   "cell_type": "code",
   "execution_count": null,
   "id": "f3af813f",
   "metadata": {},
   "outputs": [],
   "source": [
    "%matplotlib widget\n",
    "# import the library\n",
    "from velocity_widget import ITSLIVE\n",
    "\n",
    "velocity_widget = ITSLIVE()"
   ]
  },
  {
   "cell_type": "code",
   "execution_count": null,
   "id": "39e9abf4-7bef-4cef-ab0c-8ff0ff4460b6",
   "metadata": {},
   "outputs": [],
   "source": [
    "# If this congiguration changes we need to rerun the cell.\n",
    "config = { \n",
    "    \"plot\": \"v\", # or other ITS_LIVE variables: vx, vy ...\n",
    "    \"max_separation_days\": 90,\n",
    "    \"color_by\": \"points\" # valid values: satellite, points\n",
    "}\n",
    "\n",
    "velocity_widget.set_config(config)\n",
    "velocity_widget.display()"
   ]
  },
  {
   "cell_type": "markdown",
   "id": "3f368307-8061-40e2-85f2-52e020c9a7dc",
   "metadata": {},
   "source": [
    "## Gathering and processing the data\n",
    "\n",
    "## Zarr and S3 cloud storage\n",
    "\n",
    "* Why Zarr? \n",
    "* Chunking of ITS_LIVE cubes\n",
    "\n",
    "### Working with ITS_LIVE zarr cubes in **xarray**"
   ]
  },
  {
   "cell_type": "code",
   "execution_count": null,
   "id": "3a0f7570-bc65-41b7-acaf-88b873ea01d9",
   "metadata": {},
   "outputs": [],
   "source": [
    "# we can work directly with the xarray instances for the cubes that match our points in the map.\n",
    "# this will return a list of tuples with the file to the cube and the actual xarray instance!\n",
    "zarr_cubes = velocity_widget.get_zarr_cubes()\n",
    "cube_tuple = zarr_cubes[0]\n",
    "print(f\"Zarr file: {cube_tuple[0]}\")\n",
    "# The actual xarray is the second item in our tuple, if we pretty printed it will fetch metadata from\n",
    "# S3 and will take ~10 seconds to load the first time. Chunking was optimized for time series so any spatial operation will \n",
    "# take some time, where as selecting a point and getting all the values along the time dimenssion will be fast.\n",
    "cube = cube_tuple[1]\n",
    "cube"
   ]
  },
  {
   "cell_type": "code",
   "execution_count": null,
   "id": "de3bcfe6-c163-4a03-882d-ef3579afa401",
   "metadata": {},
   "outputs": [],
   "source": []
  }
 ],
 "metadata": {
  "kernelspec": {
   "display_name": "Python 3 (ipykernel)",
   "language": "python",
   "name": "python3"
  },
  "language_info": {
   "codemirror_mode": {
    "name": "ipython",
    "version": 3
   },
   "file_extension": ".py",
   "mimetype": "text/x-python",
   "name": "python",
   "nbconvert_exporter": "python",
   "pygments_lexer": "ipython3",
   "version": "3.9.10"
  }
 },
 "nbformat": 4,
 "nbformat_minor": 5
}

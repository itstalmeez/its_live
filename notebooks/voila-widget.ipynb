{
 "cells": [
  {
   "cell_type": "code",
   "execution_count": 5,
   "id": "330a2f00",
   "metadata": {},
   "outputs": [
    {
     "data": {
      "application/vnd.jupyter.widget-view+json": {
       "model_id": "9689856835064c9bb9c72f483e895cf6",
       "version_major": 2,
       "version_minor": 0
      },
      "image/png": "[encoded data removed]",
      "text/html": [
       "\n",
       "            <div style=\"display: inline-block;\">\n",
       "                <div class=\"jupyter-widgets widget-label\" style=\"text-align: center;\">\n",
       "                    Figure\n",
       "                </div>\n",
       "                <img src='data:image/png;base64,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' width=600.0/>\n",
       "            </div>\n",
       "        "
      ],
      "text/plain": [
       "Canvas(toolbar=Toolbar(toolitems=[('Home', 'Reset original view', 'home', 'home'), ('Back', 'Back to previous …"
      ]
     },
     "metadata": {},
     "output_type": "display_data"
    }
   ],
   "source": [
    "# %%capture\n",
    "# %matplotlib widget\n",
    "\n",
    "import matplotlib\n",
    "import markdown \n",
    "from ipywidgets import widgets, HTML\n",
    "\n",
    "from velocity_widget import ITSLIVE\n",
    "\n",
    "matplotlib.rcParams['figure.figsize'] = [6, 4]\n",
    "\n",
    "velocity_widget = ITSLIVE()"
   ]
  },
  {
   "cell_type": "code",
   "execution_count": 2,
   "id": "1905eb53-c87a-425a-beb3-115720d58af8",
   "metadata": {},
   "outputs": [],
   "source": [
    "html_title = markdown.markdown(\"\"\"\n",
    "\n",
    "<div>\n",
    "    <h1><center><a href=\"https://its-live.jpl.nasa.gov/\"><img src=\"https://its-live-data.s3.amazonaws.com/documentation/ITS_LIVE_logo.png\" height=\"80\"/></a></center></h1>\n",
    "    <h1><center>Global Glacier Velocity Point Data Access</center></h1>\n",
    "</div>\n",
    "\n",
    "***\n",
    "\n",
    "\n",
    "<b>Authors</b>: Mark Fahnestock, Alex S. Gardner, Luis Lopez, Ted Scambos, Maria Liukis, Chad A. Greene, Joseph H. Kennedy\n",
    "\n",
    "\n",
    "***\n",
    "\n",
    "\"\"\")\n",
    "\n",
    "\n",
    "html_instructions = markdown.markdown(\"\"\" This notebook allows you to select a set of point locations on a Leaflet-based global map, fetch all available ITS_LIVE glacier velocities for the locations, and plot the results.\n",
    "Select the points by double-clicking on the map - click and drag on the map to pan the field of view. Once points are chosen, hit \"Make Plot\" (bottom right corner) to produce a plot.\n",
    "\n",
    "You can drag individual points after they are placed to relocate them, and then \"Make Plot\" again. Click \"Clear Points\" to start over.\n",
    "Underling data is stored on AWS S3 as Zarr datacubes and is accessed without an intermediate server. Glacier velocities in the \"All Satellite\" datacube collection are derived from all available Landsat 8, Sentinel-1A/B, Sentinel-2A/B imagery, while they are limited to Landsat 8 for now in the global dataset.\n",
    "\n",
    "Please refer to the <b>[project website](https://its-live.jpl.nasa.gov/)</b> for further product infomation and for appraopriate data citation.\n",
    "\"\"\")\n",
    "\n",
    "\n",
    "title = HTML(html_title)\n",
    "instructions = widgets.Accordion(children=[HTML(html_instructions)], selected_index=None)\n",
    "instructions.set_title(0,title=\"Instructions\")"
   ]
  },
  {
   "cell_type": "code",
   "execution_count": 3,
   "id": "cdc8e3f9",
   "metadata": {},
   "outputs": [
    {
     "data": {
      "application/vnd.jupyter.widget-view+json": {
       "model_id": "0b84e0f429c8471db99acccb186b1c41",
       "version_major": 2,
       "version_minor": 0
      },
      "text/plain": [
       "GridBox(children=(VBox(children=(HTML(value='<div>\\n    <h1><center><a href=\"https://its-live.jpl.nasa.gov/\"><…"
      ]
     },
     "metadata": {},
     "output_type": "display_data"
    }
   ],
   "source": [
    "\n",
    "# If this congiguration changes we need to rerun the cell.\n",
    "config = { \n",
    "    \"plot\": \"v\", # or other ITS_LIVE variables: vx, vy ...\n",
    "    \"min_separation_days\": 1,\n",
    "    \"max_separation_days\": 90,\n",
    "    \"color_by\": \"points\", # valid values: satellite, points\n",
    "    \"verbose\": False # print operations\n",
    "}\n",
    "\n",
    "velocity_widget.set_config(config)\n",
    "# If we have Jupyterlab we can render this using the Sidecar widget\n",
    "\n",
    "\n",
    "dates_range = widgets.SelectionRangeSlider(\n",
    "    options=[i for i in range(120)],\n",
    "    index=(1, 90),\n",
    "    continuous_update=False,\n",
    "    description='Separation Range (days): ',\n",
    "    orientation='horizontal',\n",
    "    layout={'width': '90%',\n",
    "            'display': 'flex'},\n",
    "    style={'description_width': 'initial'})\n",
    "\n",
    "variables =  widgets.Dropdown(\n",
    "    options=['v', 'v_error', 'vx', 'vy'],\n",
    "    description='Variable to Plot: ',\n",
    "    disabled=False,\n",
    "    value='v',\n",
    "    layout={'width': '90%',\n",
    "            'display': 'flex'},\n",
    "    style={'description_width': 'initial'})\n",
    "\n",
    "plot_type =  widgets.Dropdown(\n",
    "    options=['points', 'satellite'],\n",
    "    description='Plot By: ',\n",
    "    disabled=False,\n",
    "    value='points',\n",
    "    layout={'width': '90%',\n",
    "            'display': 'flex'},\n",
    "    style={'description_width': 'initial'})\n",
    "\n",
    "def update_variable(change):\n",
    "        if change['type'] == 'change' and change['name'] == 'value':\n",
    "            config[\"plot\"] = variables.value\n",
    "            velocity_widget.set_config(config)\n",
    "            \n",
    "def update_range(change):\n",
    "        if change['type'] == 'change' and change['name'] == 'value':\n",
    "            start, end = change['new']\n",
    "            config[\"min_separation_days\"] = start\n",
    "            config[\"max_separation_days\"] = end\n",
    "            velocity_widget.set_config(config)\n",
    "            \n",
    "def update_plottype(change):\n",
    "        if change['type'] == 'change' and change['name'] == 'value':\n",
    "            config[\"color_by\"] = plot_type.value\n",
    "            velocity_widget.set_config(config)\n",
    "\n",
    "dates_range.observe(update_range, 'value')\n",
    "plot_type.observe(update_plottype, 'value')\n",
    "variables.observe(update_variable, 'value')\n",
    "\n",
    "layout = widgets.Layout(align_items='stretch',\n",
    "                        display='flex',\n",
    "                        flex_flow='row wrap',\n",
    "                        border='none',\n",
    "                        grid_template_columns=\"repeat(auto-fit, minmax(1400px, 1fr))\",\n",
    "                        width='100%',\n",
    "                        height='100%')\n",
    "\n",
    "plot = widgets.Accordion(children=[velocity_widget.fig.canvas])\n",
    "plot.set_title(0, \"Velocity Plot\")\n",
    "\n",
    "widgets.GridBox([widgets.VBox([title, plot, instructions], layout=widgets.Layout(width=\"50%\", min_width=\"640px\")),\n",
    "                 widgets.VBox([velocity_widget.map, dates_range, variables, plot_type], layout=widgets.Layout(width=\"48%\", min_width=\"640px\"))],\n",
    "                 layout=layout)"
   ]
  }
 ],
 "metadata": {
  "kernelspec": {
   "display_name": "Python 3 (ipykernel)",
   "language": "python",
   "name": "python3"
  },
  "language_info": {
   "codemirror_mode": {
    "name": "ipython",
    "version": 3
   },
   "file_extension": ".py",
   "mimetype": "text/x-python",
   "name": "python",
   "nbconvert_exporter": "python",
   "pygments_lexer": "ipython3",
   "version": "3.9.12"
  }
 },
 "nbformat": 4,
 "nbformat_minor": 5
}
